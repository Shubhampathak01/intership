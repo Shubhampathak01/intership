{
 "cells": [
  {
   "cell_type": "code",
   "execution_count": 1,
   "id": "2fc543df",
   "metadata": {},
   "outputs": [
    {
     "name": "stdout",
     "output_type": "stream",
     "text": [
      "Requirement already satisfied: selenium in c:\\users\\bluechip\\anaconda3\\lib\\site-packages (4.9.0)\n",
      "Requirement already satisfied: urllib3[socks]~=1.26 in c:\\users\\bluechip\\anaconda3\\lib\\site-packages (from selenium) (1.26.11)\n",
      "Requirement already satisfied: trio-websocket~=0.9 in c:\\users\\bluechip\\anaconda3\\lib\\site-packages (from selenium) (0.10.2)\n",
      "Requirement already satisfied: trio~=0.17 in c:\\users\\bluechip\\anaconda3\\lib\\site-packages (from selenium) (0.22.0)\n",
      "Requirement already satisfied: certifi>=2021.10.8 in c:\\users\\bluechip\\anaconda3\\lib\\site-packages (from selenium) (2022.9.14)\n",
      "Requirement already satisfied: exceptiongroup>=1.0.0rc9 in c:\\users\\bluechip\\anaconda3\\lib\\site-packages (from trio~=0.17->selenium) (1.1.1)\n",
      "Requirement already satisfied: idna in c:\\users\\bluechip\\anaconda3\\lib\\site-packages (from trio~=0.17->selenium) (3.3)\n",
      "Requirement already satisfied: outcome in c:\\users\\bluechip\\anaconda3\\lib\\site-packages (from trio~=0.17->selenium) (1.2.0)\n",
      "Requirement already satisfied: async-generator>=1.9 in c:\\users\\bluechip\\anaconda3\\lib\\site-packages (from trio~=0.17->selenium) (1.10)\n",
      "Requirement already satisfied: cffi>=1.14 in c:\\users\\bluechip\\anaconda3\\lib\\site-packages (from trio~=0.17->selenium) (1.15.1)\n",
      "Requirement already satisfied: sniffio in c:\\users\\bluechip\\anaconda3\\lib\\site-packages (from trio~=0.17->selenium) (1.2.0)\n",
      "Requirement already satisfied: sortedcontainers in c:\\users\\bluechip\\anaconda3\\lib\\site-packages (from trio~=0.17->selenium) (2.4.0)\n",
      "Requirement already satisfied: attrs>=19.2.0 in c:\\users\\bluechip\\anaconda3\\lib\\site-packages (from trio~=0.17->selenium) (21.4.0)\n",
      "Requirement already satisfied: wsproto>=0.14 in c:\\users\\bluechip\\anaconda3\\lib\\site-packages (from trio-websocket~=0.9->selenium) (1.2.0)\n",
      "Requirement already satisfied: PySocks!=1.5.7,<2.0,>=1.5.6 in c:\\users\\bluechip\\anaconda3\\lib\\site-packages (from urllib3[socks]~=1.26->selenium) (1.7.1)\n",
      "Requirement already satisfied: pycparser in c:\\users\\bluechip\\anaconda3\\lib\\site-packages (from cffi>=1.14->trio~=0.17->selenium) (2.21)\n",
      "Requirement already satisfied: h11<1,>=0.9.0 in c:\\users\\bluechip\\anaconda3\\lib\\site-packages (from wsproto>=0.14->trio-websocket~=0.9->selenium) (0.14.0)\n"
     ]
    }
   ],
   "source": [
    "!pip install selenium"
   ]
  },
  {
   "cell_type": "code",
   "execution_count": 2,
   "id": "9d23e31f",
   "metadata": {},
   "outputs": [],
   "source": [
    "import selenium\n",
    "import pandas as pd\n",
    "from selenium import webdriver\n",
    "import warnings\n",
    "warnings.filterwarnings('ignore')\n",
    "from selenium.common.exceptions import StaleElementReferenceException, NoSuchElementException\n",
    "from selenium.webdriver.common.by import By\n",
    "from selenium.webdriver.common.keys import Keys\n",
    "import time\n",
    "import re"
   ]
  },
  {
   "cell_type": "code",
   "execution_count": 3,
   "id": "630efcf7",
   "metadata": {},
   "outputs": [
    {
     "name": "stdout",
     "output_type": "stream",
     "text": [
      "Enter the title of Product you are interest in search :guitar\n"
     ]
    }
   ],
   "source": [
    "driver=webdriver.Chrome(r'C:\\Users\\bluechip\\Downloads\\chromedriver.exe')\n",
    "time.sleep(2)\n",
    "\n",
    "url='http://www.amazon.in/'\n",
    "driver.get(url)\n",
    "time.sleep(2)\n",
    "\n",
    "User_input=input('Enter the title of Product you are interest in search :')"
   ]
  },
  {
   "cell_type": "code",
   "execution_count": 4,
   "id": "378f3788",
   "metadata": {},
   "outputs": [],
   "source": [
    "Search=driver.find_element(By.XPATH,'//input[@id=\"twotabsearchtextbox\"]')\n",
    "\n",
    "Search.clear()\n",
    "\n",
    "Search.send_keys(User_input)\n",
    "\n",
    "Search_button=driver.find_element(By.XPATH,'//input[@id=\"nav-search-submit-button\"]')\n",
    "Search_button.click()"
   ]
  },
  {
   "cell_type": "code",
   "execution_count": 5,
   "id": "25b22c55",
   "metadata": {},
   "outputs": [],
   "source": [
    "Brand =[]\n",
    "Product = []\n",
    "Rating =[]\n",
    "No_of_ratings =[]\n",
    "Price =[]\n",
    "Return =[]\n",
    "Excepted_delivery =[]\n",
    "Availability =[]\n",
    "Other_details =[]"
   ]
  },
  {
   "cell_type": "code",
   "execution_count": 6,
   "id": "0f65f410",
   "metadata": {},
   "outputs": [],
   "source": [
    "URL= []\n",
    "\n",
    "for page in range(0,3):\n",
    "    url=driver.find_elements(By.XPATH,'//a[@class=\"a-link-normal a-text-normal\"]')\n",
    "    for i in url:\n",
    "        URL.append(i.get_attribute('href'))\n",
    "    time.sleep(2)\n",
    "    Nxt_page=driver.find_element(By.XPATH,'//div[@class=\"nav-search-submit nav-sprite\"]')\n",
    "    Nxt_page.click()\n",
    "    time.sleep(3)"
   ]
  },
  {
   "cell_type": "code",
   "execution_count": 7,
   "id": "0ea68d3a",
   "metadata": {},
   "outputs": [
    {
     "data": {
      "text/plain": [
       "6"
      ]
     },
     "execution_count": 7,
     "metadata": {},
     "output_type": "execute_result"
    }
   ],
   "source": [
    "len(URL)"
   ]
  },
  {
   "cell_type": "code",
   "execution_count": 8,
   "id": "ea51cf18",
   "metadata": {},
   "outputs": [
    {
     "name": "stderr",
     "output_type": "stream",
     "text": [
      "100%|████████████████████████████████████████████████████████████████████████████████████| 6/6 [01:55<00:00, 19.31s/it]\n"
     ]
    }
   ],
   "source": [
    "from tqdm import tqdm\n",
    "for i in tqdm(URL):\n",
    "    driver.get(i)\n",
    "    time.sleep(2)\n",
    "    \n",
    "    try:\n",
    "        brand=driver.find_element(By.XPATH,'//a[@id=\"bylineInfo\"]')\n",
    "        Brand.append(brand.text) \n",
    "    except NoSuchElementException:\n",
    "        Brand.append('-')\n",
    "        \n",
    "    time.sleep(1)\n",
    "    \n",
    "    try:\n",
    "        product =driver.find_element(By.XPATH,'//span[@id=\"productTitle\"]')\n",
    "        Product.append(product.text)\n",
    "    except NoSuchElementException:\n",
    "        Product.append('-')\n",
    "    time.sleep(1)\n",
    "    \n",
    "    try:\n",
    "        rating=driver.find_element(By.XPATH,'//span[@class=\"a-size-medium a-color-base\"]')\n",
    "        Rating.append(rating.text)\n",
    "    except NoSuchElementException:\n",
    "        Rating.append('-')\n",
    "    time.sleep(1)\n",
    "    \n",
    "    try:\n",
    "        rating_count=driver.find_element(By.XPATH,'//span[@class=\"a-size-base a-color-secondary\"]')\n",
    "        No_of_ratings.append(rating_count.text)\n",
    "    except NoSuchElementException:\n",
    "        No_of_ratings.append('-')\n",
    "    time.sleep(1)\n",
    "    \n",
    "    try:\n",
    "        price=driver.find_element(By.XPATH,'//span[@id=\"priceblock_dealprice\"]')\n",
    "        Price.append(price.text)\n",
    "    except NoSuchElementException:\n",
    "        Price.append('-')\n",
    "    time.sleep(1)\n",
    "    \n",
    "    try:\n",
    "        replacement=driver.find_element(By.XPATH,'//*[@id=\"RETURNS_POLICY\"]/span/div[2]/a')\n",
    "        Return.append(replacement.text)\n",
    "    except NoSuchElementException:\n",
    "        Return.append('-')\n",
    "    time.sleep(1)\n",
    "    \n",
    "    try:\n",
    "        delivery=driver.find_element(By.XPATH,'//div[@id=\"ddmDeliveryMessage\"]/b')\n",
    "        Excepted_delivery.append(delivery.text)\n",
    "    except NoSuchElementException:\n",
    "        Excepted_delivery.append('-')\n",
    "    time.sleep(1)\n",
    "    \n",
    "    try:\n",
    "        availability=driver.find_element(By.XPATH,'//span[@class=\"a-size-medium a-color-success\"]')\n",
    "        Availability.append(availability.text)\n",
    "    except NoSuchElementException:\n",
    "        Availability.append('-')\n",
    "    time.sleep(1)\n",
    "    \n",
    "    try:\n",
    "        other=driver.find_element(By.XPATH,'//ul[@class=\"a-unordered-list a-vertical a-spacing-mini\"]')\n",
    "        Other_details.append(other.text)\n",
    "    except NoSuchElementException:\n",
    "        Other_details.append('-')\n",
    "    time.sleep(1)\n",
    "    "
   ]
  },
  {
   "cell_type": "code",
   "execution_count": 9,
   "id": "0ff74c57",
   "metadata": {},
   "outputs": [
    {
     "data": {
      "text/html": [
       "<div>\n",
       "<style scoped>\n",
       "    .dataframe tbody tr th:only-of-type {\n",
       "        vertical-align: middle;\n",
       "    }\n",
       "\n",
       "    .dataframe tbody tr th {\n",
       "        vertical-align: top;\n",
       "    }\n",
       "\n",
       "    .dataframe thead th {\n",
       "        text-align: right;\n",
       "    }\n",
       "</style>\n",
       "<table border=\"1\" class=\"dataframe\">\n",
       "  <thead>\n",
       "    <tr style=\"text-align: right;\">\n",
       "      <th></th>\n",
       "      <th>brnd</th>\n",
       "      <th>prduct</th>\n",
       "      <th>rting</th>\n",
       "      <th>no,rting</th>\n",
       "      <th>price</th>\n",
       "      <th>return</th>\n",
       "      <th>delivery</th>\n",
       "      <th>available</th>\n",
       "      <th>details</th>\n",
       "      <th>URL</th>\n",
       "    </tr>\n",
       "  </thead>\n",
       "  <tbody>\n",
       "    <tr>\n",
       "      <th>0</th>\n",
       "      <td>Visit the Kadence Store</td>\n",
       "      <td>Kadence Guitar Acoustica Series, Electric Acou...</td>\n",
       "      <td>3.8 out of 5</td>\n",
       "      <td></td>\n",
       "      <td>-</td>\n",
       "      <td>-</td>\n",
       "      <td>-</td>\n",
       "      <td>In stock</td>\n",
       "      <td>★DESIGN --- The Deep Pore paint finish, Simple...</td>\n",
       "      <td>https://aax-eu.amazon.in/x/c/RNgfuXR_fvyj7vXod...</td>\n",
       "    </tr>\n",
       "    <tr>\n",
       "      <th>1</th>\n",
       "      <td>Brand: Cute critters</td>\n",
       "      <td>Cute Critters Finger Sleeve, 4/8 PCS Silicone ...</td>\n",
       "      <td>3.4 out of 5</td>\n",
       "      <td>601 global ratings</td>\n",
       "      <td>-</td>\n",
       "      <td>-</td>\n",
       "      <td>-</td>\n",
       "      <td>In stock</td>\n",
       "      <td>Picks Can Be Quickly And Effectively To Streng...</td>\n",
       "      <td>https://aax-eu.amazon.in/x/c/RG6QvLSsIpwB95HQh...</td>\n",
       "    </tr>\n",
       "    <tr>\n",
       "      <th>2</th>\n",
       "      <td>Visit the Kadence Store</td>\n",
       "      <td>Kadence Guitar Acoustica Series, Electric Acou...</td>\n",
       "      <td>3.8 out of 5</td>\n",
       "      <td></td>\n",
       "      <td>-</td>\n",
       "      <td>-</td>\n",
       "      <td>-</td>\n",
       "      <td>In stock</td>\n",
       "      <td>★DESIGN --- The Deep Pore paint finish, Simple...</td>\n",
       "      <td>https://aax-eu.amazon.in/x/c/RJSr8qZkJjc17HVW3...</td>\n",
       "    </tr>\n",
       "    <tr>\n",
       "      <th>3</th>\n",
       "      <td>Brand: Cute critters</td>\n",
       "      <td>Cute Critters Finger Sleeve, 4/8 PCS Silicone ...</td>\n",
       "      <td>3.4 out of 5</td>\n",
       "      <td>601 global ratings</td>\n",
       "      <td>-</td>\n",
       "      <td>-</td>\n",
       "      <td>-</td>\n",
       "      <td>In stock</td>\n",
       "      <td>Picks Can Be Quickly And Effectively To Streng...</td>\n",
       "      <td>https://aax-eu.amazon.in/x/c/REozdCaXkbY8Yb9ma...</td>\n",
       "    </tr>\n",
       "    <tr>\n",
       "      <th>4</th>\n",
       "      <td>Visit the Kadence Store</td>\n",
       "      <td>Kadence Guitar Acoustica Series, Electric Acou...</td>\n",
       "      <td>3.8 out of 5</td>\n",
       "      <td></td>\n",
       "      <td>-</td>\n",
       "      <td>-</td>\n",
       "      <td>-</td>\n",
       "      <td>In stock</td>\n",
       "      <td>★DESIGN --- The Deep Pore paint finish, Simple...</td>\n",
       "      <td>https://aax-eu.amazon.in/x/c/REHarJ5Jp1vuzGOnA...</td>\n",
       "    </tr>\n",
       "    <tr>\n",
       "      <th>5</th>\n",
       "      <td>Brand: Cute critters</td>\n",
       "      <td>Cute Critters Finger Sleeve, 4/8 PCS Silicone ...</td>\n",
       "      <td>3.4 out of 5</td>\n",
       "      <td>601 global ratings</td>\n",
       "      <td>-</td>\n",
       "      <td>-</td>\n",
       "      <td>-</td>\n",
       "      <td>In stock</td>\n",
       "      <td>Picks Can Be Quickly And Effectively To Streng...</td>\n",
       "      <td>https://aax-eu.amazon.in/x/c/RPb04wn0SvEq9eOBm...</td>\n",
       "    </tr>\n",
       "  </tbody>\n",
       "</table>\n",
       "</div>"
      ],
      "text/plain": [
       "                      brnd                                             prduct  \\\n",
       "0  Visit the Kadence Store  Kadence Guitar Acoustica Series, Electric Acou...   \n",
       "1     Brand: Cute critters  Cute Critters Finger Sleeve, 4/8 PCS Silicone ...   \n",
       "2  Visit the Kadence Store  Kadence Guitar Acoustica Series, Electric Acou...   \n",
       "3     Brand: Cute critters  Cute Critters Finger Sleeve, 4/8 PCS Silicone ...   \n",
       "4  Visit the Kadence Store  Kadence Guitar Acoustica Series, Electric Acou...   \n",
       "5     Brand: Cute critters  Cute Critters Finger Sleeve, 4/8 PCS Silicone ...   \n",
       "\n",
       "          rting            no,rting price return delivery available  \\\n",
       "0  3.8 out of 5                         -      -        -  In stock   \n",
       "1  3.4 out of 5  601 global ratings     -      -        -  In stock   \n",
       "2  3.8 out of 5                         -      -        -  In stock   \n",
       "3  3.4 out of 5  601 global ratings     -      -        -  In stock   \n",
       "4  3.8 out of 5                         -      -        -  In stock   \n",
       "5  3.4 out of 5  601 global ratings     -      -        -  In stock   \n",
       "\n",
       "                                             details  \\\n",
       "0  ★DESIGN --- The Deep Pore paint finish, Simple...   \n",
       "1  Picks Can Be Quickly And Effectively To Streng...   \n",
       "2  ★DESIGN --- The Deep Pore paint finish, Simple...   \n",
       "3  Picks Can Be Quickly And Effectively To Streng...   \n",
       "4  ★DESIGN --- The Deep Pore paint finish, Simple...   \n",
       "5  Picks Can Be Quickly And Effectively To Streng...   \n",
       "\n",
       "                                                 URL  \n",
       "0  https://aax-eu.amazon.in/x/c/RNgfuXR_fvyj7vXod...  \n",
       "1  https://aax-eu.amazon.in/x/c/RG6QvLSsIpwB95HQh...  \n",
       "2  https://aax-eu.amazon.in/x/c/RJSr8qZkJjc17HVW3...  \n",
       "3  https://aax-eu.amazon.in/x/c/REozdCaXkbY8Yb9ma...  \n",
       "4  https://aax-eu.amazon.in/x/c/REHarJ5Jp1vuzGOnA...  \n",
       "5  https://aax-eu.amazon.in/x/c/RPb04wn0SvEq9eOBm...  "
      ]
     },
     "execution_count": 9,
     "metadata": {},
     "output_type": "execute_result"
    }
   ],
   "source": [
    "import pandas as pd\n",
    "Guitar = pd.DataFrame({\"brnd\":Brand, \"prduct\":Product, \"rting\":Rating, \"no,rting\": No_of_ratings, \"price\":Price,\"return\":Return, \"delivery\":Excepted_delivery,\"available\":Availability, \"details\":Other_details,\"URL\":URL})\n",
    "Guitar"
   ]
  },
  {
   "cell_type": "markdown",
   "id": "5eb56d19",
   "metadata": {},
   "source": [
    "# Q3"
   ]
  },
  {
   "cell_type": "code",
   "execution_count": 10,
   "id": "3207ce06",
   "metadata": {},
   "outputs": [],
   "source": [
    "driver=webdriver.Chrome(r'C:\\Users\\bluechip\\Downloads\\chromedriver.exe')\n",
    "time.sleep(1)\n",
    "\n",
    "url='https://images.google.com/'\n",
    "driver.get(url)"
   ]
  },
  {
   "cell_type": "code",
   "execution_count": 13,
   "id": "a52b1988",
   "metadata": {},
   "outputs": [],
   "source": [
    "Search=driver.find_element(By.XPATH,'//input[@class=\"og3lId\"]')\n",
    "\n",
    "Search.clear()\n",
    "Search.send_keys('Fruits')\n",
    "Search_button=driver.find_element(By.XPATH,'//span[@class=\"n6h3Rc\"]')\n",
    "Search_button.click()"
   ]
  },
  {
   "cell_type": "code",
   "execution_count": 14,
   "id": "295c8482",
   "metadata": {},
   "outputs": [],
   "source": [
    "driver.execute_script(\"window.scrollBy(0,1000)\",\"\")\n",
    "URL=[]\n",
    "images= driver.find_elements(By.XPATH,'//img[@class=\"rg_i Q4LuWd\"]')\n",
    "for image in images:\n",
    "    source= image.get_attribute('src')\n",
    "    if source is not None:\n",
    "        if(source[0:4] == 'http'):\n",
    "            URL.append(source)"
   ]
  },
  {
   "cell_type": "code",
   "execution_count": 15,
   "id": "ff1008f2",
   "metadata": {},
   "outputs": [
    {
     "data": {
      "text/plain": [
       "7"
      ]
     },
     "execution_count": 15,
     "metadata": {},
     "output_type": "execute_result"
    }
   ],
   "source": [
    "len(URL)"
   ]
  },
  {
   "cell_type": "code",
   "execution_count": 16,
   "id": "d0a6db18",
   "metadata": {},
   "outputs": [],
   "source": [
    "import requests"
   ]
  },
  {
   "cell_type": "code",
   "execution_count": 17,
   "id": "813d2d75",
   "metadata": {},
   "outputs": [
    {
     "name": "stdout",
     "output_type": "stream",
     "text": [
      "Downloading 0 of 10 images\n",
      "Downloading 1 of 10 images\n",
      "Downloading 2 of 10 images\n",
      "Downloading 3 of 10 images\n",
      "Downloading 4 of 10 images\n",
      "Downloading 5 of 10 images\n",
      "Downloading 6 of 10 images\n"
     ]
    }
   ],
   "source": [
    "images = driver.find_elements(By.XPATH,'//img[@class=\"rg_i Q4LuWd\"]')\n",
    "\n",
    "img_urls = []\n",
    "img_data = []\n",
    "for image in images:\n",
    "    source= image.get_attribute('src')\n",
    "    if source is not None:\n",
    "        if(source[0:4] == 'http'):\n",
    "            img_urls.append(source)\n",
    "            \n",
    "for i in range(len(img_urls)):\n",
    "    if i >= 10:\n",
    "        break\n",
    "    print(\"Downloading {0} of {1} images\" .format(i, 10))\n",
    "    response= requests.get(img_urls[i])\n",
    "    file = open(r\"C:\\Users\\bluechip\\Downloads\"+str(i)+\".jpg\", \"wb\")\n",
    "    file.write(response.content)"
   ]
  },
  {
   "cell_type": "markdown",
   "id": "42fb97af",
   "metadata": {},
   "source": [
    "# Q4"
   ]
  },
  {
   "cell_type": "code",
   "execution_count": 18,
   "id": "03933421",
   "metadata": {},
   "outputs": [],
   "source": [
    "driver=webdriver.Chrome(r'C:\\Users\\bluechip\\Downloads\\chromedriver.exe')"
   ]
  },
  {
   "cell_type": "code",
   "execution_count": 19,
   "id": "00187800",
   "metadata": {},
   "outputs": [],
   "source": [
    "time.sleep(1)\n",
    "url='http://www.flipkart.com/'\n",
    "driver.get(url)\n",
    "time.sleep(3)\n",
    "\n",
    "try:\n",
    "    login_window = driver.find_element(By.XPATH,'//button[@class=\"_2KpZ6l _2doB4z\"]')\n",
    "    login_window.click()\n",
    "except NoSuchElementException:\n",
    "    print('Login Window is not present')"
   ]
  },
  {
   "cell_type": "code",
   "execution_count": 33,
   "id": "b002df5a",
   "metadata": {},
   "outputs": [],
   "source": [
    "Search=driver.find_element(By.XPATH,'//div[@class=\"_3OO5Xc\"]/input')\n",
    "Search.clear()\n",
    "Search.send_keys('Oneplus Nord')\n",
    "Search_button=driver.find_element(By.XPATH,'//button[@class=\"L0Z3Pu\"]')\n",
    "Search_button.click()"
   ]
  },
  {
   "cell_type": "code",
   "execution_count": 34,
   "id": "5c3017e9",
   "metadata": {},
   "outputs": [],
   "source": [
    "Brand =[]\n",
    "Smartphone =[]\n",
    "Colour =[]\n",
    "Storage_Rom =[]\n",
    "Primary_camera=[]\n",
    "Secondary_camera=[]\n",
    "Display_size=[]\n",
    "Display_resolution=[]\n",
    "Processor =[]\n",
    "Processor_cores=[]\n",
    "Battery_capacity=[]\n",
    "Price =[]"
   ]
  },
  {
   "cell_type": "code",
   "execution_count": 35,
   "id": "2522734d",
   "metadata": {},
   "outputs": [],
   "source": [
    "URL=[]\n",
    "url=driver.find_elements(By.XPATH,'//a[@class=\"_1fQZEK\"]')\n",
    "for i in url:\n",
    "    Href=i.get_attribute('href')\n",
    "    URL.append(Href)"
   ]
  },
  {
   "cell_type": "code",
   "execution_count": 36,
   "id": "983ba157",
   "metadata": {},
   "outputs": [
    {
     "data": {
      "text/plain": [
       "8"
      ]
     },
     "execution_count": 36,
     "metadata": {},
     "output_type": "execute_result"
    }
   ],
   "source": [
    "len(URL)"
   ]
  },
  {
   "cell_type": "code",
   "execution_count": 37,
   "id": "36ece454",
   "metadata": {},
   "outputs": [
    {
     "name": "stderr",
     "output_type": "stream",
     "text": [
      "100%|████████████████████████████████████████████████████████████████████████████████████| 8/8 [00:54<00:00,  6.86s/it]\n"
     ]
    }
   ],
   "source": [
    "from tqdm import tqdm\n",
    "for i in tqdm(URL):\n",
    "    driver.get(i)\n",
    "    time.sleep(3)\n",
    "    \n",
    "    try:\n",
    "        Read_more=driver.find_element(By.XPATH,'//button[@class=\"_2KpZ6l _1FH0tX\"]')\n",
    "        Read_more.click()\n",
    "        \n",
    "    except NoSuchElementException:\n",
    "        print('NoSuchElementException Occur')\n",
    "        pass\n",
    "    \n",
    "    try:\n",
    "        brand=driver.find_element(By.XPATH,'//span[@class=\"B_NuCI\"]')\n",
    "        Brand.append(brand.text.split()[0])\n",
    "    \n",
    "    except NoSuchElementException:\n",
    "        Brand.append('-')\n",
    "        \n",
    "    try:\n",
    "        smartphone=driver.find_element(By.XPATH,'//div[@class=\"_3k-BhJ\"][1]/table/tbody/tr[3]/td[2]/ul/li')\n",
    "        Smartphone.append(smartphone.text)\n",
    "    \n",
    "    except NoSuchElementException:\n",
    "        Smartphone.append('-')\n",
    "        \n",
    "    try:\n",
    "        colour=driver.find_element(By.XPATH,'//div[@class=\"_3k-BhJ\"][1]/table/tbody/tr[4]/td[2]/ul/li')\n",
    "        Colour.append(colour.text)\n",
    "    \n",
    "    except NoSuchElementException:\n",
    "        Colour.append('-')\n",
    "    \n",
    "    try:\n",
    "        Rom=driver.find_element(By.XPATH,'//div[@class=\"_3k-BhJ\"][4]/table/tbody/tr[1]/td[2]/ul/li')\n",
    "        Storage_Rom.append(Rom.text)\n",
    "        \n",
    "    except NoSuchElementException:\n",
    "        Storage_Rom.append('Not Mention')\n",
    "        \n",
    "    try:\n",
    "        primary_camera=driver.find_element(By.XPATH,'//div[@class=\"_3k-BhJ\"][5]/table/tbody/tr[2]/td[2]/ul/li')\n",
    "        Primary_camera.append(primary_camera.text)\n",
    "    \n",
    "    except NoSuchElementException:\n",
    "        Primary_camera.append('Not Mention')\n",
    "        \n",
    "    try:\n",
    "        secondary_cam=driver.find_element(By.XPATH,'//div[@class=\"_3k-BhJ\"][5]/table/tbody/tr[5]/td[2]/ul/li')\n",
    "        Secondary_camera.append(secondary_cam.text)\n",
    "    \n",
    "    except NoSuchElementException:\n",
    "        Secondary_camera.append('Not Mention')\n",
    "    \n",
    "    try:\n",
    "        display=driver.find_element(By.XPATH,'//div[@class=\"_3k-BhJ\"][2]/table/tbody/tr[1]/td[2]/ul/li')\n",
    "        Display_size.append(display.text)\n",
    "    except NoSuchElementException:\n",
    "        Display_size.append('-')\n",
    "    \n",
    "    try:\n",
    "        resolution=driver.find_element(By.XPATH,'//div[@class=\"_3k-BhJ\"][2]/table/tbody/tr[2]/td[2]/ul/li')\n",
    "        Display_resolution.append(resolution.text)\n",
    "    except NoSuchElementException:\n",
    "        Display_resolution.append('-')\n",
    "    \n",
    "    try:\n",
    "        processor=driver.find_element(By.XPATH,'//div[@class=\"_3k-BhJ\"][3]/table/tbody/tr[2]/td[2]/ul/li')\n",
    "        Processor.append(processor.text)\n",
    "    \n",
    "    except NoSuchElementException:\n",
    "        Processor.append('-')\n",
    "    \n",
    "    try:\n",
    "        core=driver.find_element(By.XPATH,'//div[@class=\"_3k-BhJ\"][3]/table/tbody/tr[3]/td[2]/ul/li')\n",
    "        Processor_cores.append(core.text)\n",
    "    except NoSuchElementException:\n",
    "        Processor_cores.append('Not Mention')\n",
    "    \n",
    "    try:\n",
    "        price=driver.find_element(By.XPATH,'//div[@class=\"_30jeq3 _16Jk6d\"]')\n",
    "        Price.append(price.text)\n",
    "    except NoSuchElementException:\n",
    "        Price.append('Not Mention')"
   ]
  },
  {
   "cell_type": "code",
   "execution_count": 38,
   "id": "4027a744",
   "metadata": {},
   "outputs": [
    {
     "name": "stdout",
     "output_type": "stream",
     "text": [
      "\u001b[1mFlipkart Oneplus Nord Models :\u001b[0m\n"
     ]
    },
    {
     "data": {
      "text/html": [
       "<div>\n",
       "<style scoped>\n",
       "    .dataframe tbody tr th:only-of-type {\n",
       "        vertical-align: middle;\n",
       "    }\n",
       "\n",
       "    .dataframe tbody tr th {\n",
       "        vertical-align: top;\n",
       "    }\n",
       "\n",
       "    .dataframe thead th {\n",
       "        text-align: right;\n",
       "    }\n",
       "</style>\n",
       "<table border=\"1\" class=\"dataframe\">\n",
       "  <thead>\n",
       "    <tr style=\"text-align: right;\">\n",
       "      <th></th>\n",
       "      <th>Brand</th>\n",
       "      <th>Smartphone</th>\n",
       "      <th>Colour</th>\n",
       "      <th>Price</th>\n",
       "      <th>Storage Rom</th>\n",
       "      <th>Primary Camera</th>\n",
       "      <th>Display Size</th>\n",
       "      <th>Display Resolution</th>\n",
       "      <th>Processor</th>\n",
       "      <th>Processor Cores</th>\n",
       "    </tr>\n",
       "  </thead>\n",
       "  <tbody>\n",
       "    <tr>\n",
       "      <th>0</th>\n",
       "      <td>OnePlus</td>\n",
       "      <td>Nord</td>\n",
       "      <td>Gray Onyx</td>\n",
       "      <td>₹27,999</td>\n",
       "      <td>128 GB</td>\n",
       "      <td>48MP + 8MP</td>\n",
       "      <td>16.36 cm (6.44 inch)</td>\n",
       "      <td>2400 x 1080$$pixel</td>\n",
       "      <td>Qualcomm® Snapdragon™ 765G</td>\n",
       "      <td>Octa Core</td>\n",
       "    </tr>\n",
       "    <tr>\n",
       "      <th>1</th>\n",
       "      <td>OnePlus</td>\n",
       "      <td>Nord</td>\n",
       "      <td>Gray Onyx</td>\n",
       "      <td>₹24,999</td>\n",
       "      <td>64 GB</td>\n",
       "      <td>48MP + 8MP</td>\n",
       "      <td>16.36 cm (6.44 inch)</td>\n",
       "      <td>2400 x 1080$$pixel</td>\n",
       "      <td>Qualcomm® Snapdragon™ 765G</td>\n",
       "      <td>Octa Core</td>\n",
       "    </tr>\n",
       "    <tr>\n",
       "      <th>2</th>\n",
       "      <td>OnePlus</td>\n",
       "      <td>Nord</td>\n",
       "      <td>Gray Onyx</td>\n",
       "      <td>₹29,999</td>\n",
       "      <td>256 GB</td>\n",
       "      <td>48MP + 8MP</td>\n",
       "      <td>16.36 cm (6.44 inch)</td>\n",
       "      <td>2400 x 1080$$pixel</td>\n",
       "      <td>Qualcomm® Snapdragon™ 765G</td>\n",
       "      <td>Octa Core</td>\n",
       "    </tr>\n",
       "    <tr>\n",
       "      <th>3</th>\n",
       "      <td>OnePlus</td>\n",
       "      <td>Nord</td>\n",
       "      <td>Blue Marble</td>\n",
       "      <td>₹29,999</td>\n",
       "      <td>256 GB</td>\n",
       "      <td>48MP + 8MP</td>\n",
       "      <td>16.36 cm (6.44 inch)</td>\n",
       "      <td>2400 x 1080$$pixel</td>\n",
       "      <td>Qualcomm® Snapdragon™ 765G</td>\n",
       "      <td>Octa Core</td>\n",
       "    </tr>\n",
       "    <tr>\n",
       "      <th>4</th>\n",
       "      <td>OnePlus</td>\n",
       "      <td>Nord</td>\n",
       "      <td>Blue Marble</td>\n",
       "      <td>₹27,999</td>\n",
       "      <td>128 GB</td>\n",
       "      <td>48MP + 8MP</td>\n",
       "      <td>16.36 cm (6.44 inch)</td>\n",
       "      <td>2400 x 1080$$pixel</td>\n",
       "      <td>Qualcomm® Snapdragon™ 765G</td>\n",
       "      <td>Octa Core</td>\n",
       "    </tr>\n",
       "  </tbody>\n",
       "</table>\n",
       "</div>"
      ],
      "text/plain": [
       "     Brand Smartphone       Colour    Price Storage Rom Primary Camera  \\\n",
       "0  OnePlus       Nord    Gray Onyx  ₹27,999      128 GB     48MP + 8MP   \n",
       "1  OnePlus       Nord    Gray Onyx  ₹24,999       64 GB     48MP + 8MP   \n",
       "2  OnePlus       Nord    Gray Onyx  ₹29,999      256 GB     48MP + 8MP   \n",
       "3  OnePlus       Nord  Blue Marble  ₹29,999      256 GB     48MP + 8MP   \n",
       "4  OnePlus       Nord  Blue Marble  ₹27,999      128 GB     48MP + 8MP   \n",
       "\n",
       "           Display Size  Display Resolution                   Processor  \\\n",
       "0  16.36 cm (6.44 inch)  2400 x 1080$$pixel  Qualcomm® Snapdragon™ 765G   \n",
       "1  16.36 cm (6.44 inch)  2400 x 1080$$pixel  Qualcomm® Snapdragon™ 765G   \n",
       "2  16.36 cm (6.44 inch)  2400 x 1080$$pixel  Qualcomm® Snapdragon™ 765G   \n",
       "3  16.36 cm (6.44 inch)  2400 x 1080$$pixel  Qualcomm® Snapdragon™ 765G   \n",
       "4  16.36 cm (6.44 inch)  2400 x 1080$$pixel  Qualcomm® Snapdragon™ 765G   \n",
       "\n",
       "  Processor Cores  \n",
       "0       Octa Core  \n",
       "1       Octa Core  \n",
       "2       Octa Core  \n",
       "3       Octa Core  \n",
       "4       Octa Core  "
      ]
     },
     "execution_count": 38,
     "metadata": {},
     "output_type": "execute_result"
    }
   ],
   "source": [
    "Oneplus=pd.DataFrame({'Brand':Brand,'Smartphone':Smartphone,'Colour':Colour,'Price':Price,\n",
    "                        'Storage Rom':Storage_Rom,'Primary Camera':Primary_camera,'Display Size':Display_size,\n",
    "                        'Display Resolution':Display_resolution,'Processor':Processor,'Processor Cores':Processor_cores})\n",
    "print('\\033[1m'+'Flipkart Oneplus Nord Models :'+'\\033[0m')\n",
    "Oneplus.head()"
   ]
  },
  {
   "cell_type": "code",
   "execution_count": 39,
   "id": "2b4a5d5d",
   "metadata": {},
   "outputs": [],
   "source": [
    "driver=webdriver.Chrome(r'C:\\Users\\bluechip\\Downloads\\chromedriver.exe')"
   ]
  },
  {
   "cell_type": "code",
   "execution_count": 40,
   "id": "897c0b23",
   "metadata": {},
   "outputs": [],
   "source": [
    "time.sleep(1)\n",
    "url='http://www.flipkart.com/'\n",
    "driver.get(url)\n",
    "time.sleep(3)\n",
    "\n",
    "try:\n",
    "    login_window = driver.find_element(By.XPATH,'//button[@class=\"_2KpZ6l _2doB4z\"]')\n",
    "    login_window.click()\n",
    "except NoSuchElementException:\n",
    "    print('Login Window is not present')"
   ]
  },
  {
   "cell_type": "code",
   "execution_count": 41,
   "id": "f8050053",
   "metadata": {},
   "outputs": [],
   "source": [
    "Search=driver.find_element(By.XPATH,'//div[@class=\"_3OO5Xc\"]/input')\n",
    "Search.clear()\n",
    "Search.send_keys('pixel 4A')\n",
    "Search_button=driver.find_element(By.XPATH,'//button[@class=\"L0Z3Pu\"]')\n",
    "Search_button.click()"
   ]
  },
  {
   "cell_type": "code",
   "execution_count": 42,
   "id": "4d3ea078",
   "metadata": {},
   "outputs": [],
   "source": [
    "Brand =[]\n",
    "Smartphone =[]\n",
    "Colour =[]\n",
    "Storage_Rom =[]\n",
    "Primary_camera=[]\n",
    "Secondary_camera=[]\n",
    "Display_size=[]\n",
    "Display_resolution=[]\n",
    "Processor =[]\n",
    "Processor_cores=[]\n",
    "Battery_capacity=[]\n",
    "Price =[]"
   ]
  },
  {
   "cell_type": "code",
   "execution_count": 43,
   "id": "9e080b4b",
   "metadata": {},
   "outputs": [],
   "source": [
    "URL=[]\n",
    "url=driver.find_elements(By.XPATH,'//a[@class=\"_1fQZEK\"]')\n",
    "for i in url:\n",
    "    Href=i.get_attribute('href')\n",
    "    URL.append(Href)"
   ]
  },
  {
   "cell_type": "code",
   "execution_count": 44,
   "id": "3d21d717",
   "metadata": {},
   "outputs": [
    {
     "data": {
      "text/plain": [
       "24"
      ]
     },
     "execution_count": 44,
     "metadata": {},
     "output_type": "execute_result"
    }
   ],
   "source": [
    "len(URL)"
   ]
  },
  {
   "cell_type": "code",
   "execution_count": 45,
   "id": "cbacc177",
   "metadata": {},
   "outputs": [
    {
     "name": "stderr",
     "output_type": "stream",
     "text": [
      "100%|██████████████████████████████████████████████████████████████████████████████████| 24/24 [02:46<00:00,  6.94s/it]\n"
     ]
    }
   ],
   "source": [
    "from tqdm import tqdm\n",
    "for i in tqdm(URL):\n",
    "    driver.get(i)\n",
    "    time.sleep(3)\n",
    "    \n",
    "    try:\n",
    "        Read_more=driver.find_element(By.XPATH,'//button[@class=\"_2KpZ6l _1FH0tX\"]')\n",
    "        Read_more.click()\n",
    "        \n",
    "    except NoSuchElementException:\n",
    "        print('NoSuchElementException Occur')\n",
    "        pass\n",
    "    \n",
    "    try:\n",
    "        brand=driver.find_element(By.XPATH,'//span[@class=\"B_NuCI\"]')\n",
    "        Brand.append(brand.text.split()[0])\n",
    "    \n",
    "    except NoSuchElementException:\n",
    "        Brand.append('-')\n",
    "        \n",
    "    try:\n",
    "        smartphone=driver.find_element(By.XPATH,'//div[@class=\"_3k-BhJ\"][1]/table/tbody/tr[3]/td[2]/ul/li')\n",
    "        Smartphone.append(smartphone.text)\n",
    "    \n",
    "    except NoSuchElementException:\n",
    "        Smartphone.append('-')\n",
    "        \n",
    "    try:\n",
    "        colour=driver.find_element(By.XPATH,'//div[@class=\"_3k-BhJ\"][1]/table/tbody/tr[4]/td[2]/ul/li')\n",
    "        Colour.append(colour.text)\n",
    "    \n",
    "    except NoSuchElementException:\n",
    "        Colour.append('-')\n",
    "    \n",
    "    try:\n",
    "        Rom=driver.find_element(By.XPATH,'//div[@class=\"_3k-BhJ\"][4]/table/tbody/tr[1]/td[2]/ul/li')\n",
    "        Storage_Rom.append(Rom.text)\n",
    "        \n",
    "    except NoSuchElementException:\n",
    "        Storage_Rom.append('Not Mention')\n",
    "        \n",
    "    try:\n",
    "        primary_camera=driver.find_element(By.XPATH,'//div[@class=\"_3k-BhJ\"][5]/table/tbody/tr[2]/td[2]/ul/li')\n",
    "        Primary_camera.append(primary_camera.text)\n",
    "    \n",
    "    except NoSuchElementException:\n",
    "        Primary_camera.append('Not Mention')\n",
    "        \n",
    "    try:\n",
    "        secondary_cam=driver.find_element(By.XPATH,'//div[@class=\"_3k-BhJ\"][5]/table/tbody/tr[5]/td[2]/ul/li')\n",
    "        Secondary_camera.append(secondary_cam.text)\n",
    "    \n",
    "    except NoSuchElementException:\n",
    "        Secondary_camera.append('Not Mention')\n",
    "    \n",
    "    try:\n",
    "        display=driver.find_element(By.XPATH,'//div[@class=\"_3k-BhJ\"][2]/table/tbody/tr[1]/td[2]/ul/li')\n",
    "        Display_size.append(display.text)\n",
    "    except NoSuchElementException:\n",
    "        Display_size.append('-')\n",
    "    \n",
    "    try:\n",
    "        resolution=driver.find_element(By.XPATH,'//div[@class=\"_3k-BhJ\"][2]/table/tbody/tr[2]/td[2]/ul/li')\n",
    "        Display_resolution.append(resolution.text)\n",
    "    except NoSuchElementException:\n",
    "        Display_resolution.append('-')\n",
    "    \n",
    "    try:\n",
    "        processor=driver.find_element(By.XPATH,'//div[@class=\"_3k-BhJ\"][3]/table/tbody/tr[2]/td[2]/ul/li')\n",
    "        Processor.append(processor.text)\n",
    "    \n",
    "    except NoSuchElementException:\n",
    "        Processor.append('-')\n",
    "    \n",
    "    try:\n",
    "        core=driver.find_element(By.XPATH,'//div[@class=\"_3k-BhJ\"][3]/table/tbody/tr[3]/td[2]/ul/li')\n",
    "        Processor_cores.append(core.text)\n",
    "    except NoSuchElementException:\n",
    "        Processor_cores.append('Not Mention')\n",
    "    \n",
    "    try:\n",
    "        price=driver.find_element(By.XPATH,'//div[@class=\"_30jeq3 _16Jk6d\"]')\n",
    "        Price.append(price.text)\n",
    "    except NoSuchElementException:\n",
    "        Price.append('Not Mention')"
   ]
  },
  {
   "cell_type": "code",
   "execution_count": 46,
   "id": "fde33198",
   "metadata": {},
   "outputs": [
    {
     "name": "stdout",
     "output_type": "stream",
     "text": [
      "\u001b[1mFlipkart Oneplus Nord Models :\u001b[0m\n"
     ]
    },
    {
     "data": {
      "text/html": [
       "<div>\n",
       "<style scoped>\n",
       "    .dataframe tbody tr th:only-of-type {\n",
       "        vertical-align: middle;\n",
       "    }\n",
       "\n",
       "    .dataframe tbody tr th {\n",
       "        vertical-align: top;\n",
       "    }\n",
       "\n",
       "    .dataframe thead th {\n",
       "        text-align: right;\n",
       "    }\n",
       "</style>\n",
       "<table border=\"1\" class=\"dataframe\">\n",
       "  <thead>\n",
       "    <tr style=\"text-align: right;\">\n",
       "      <th></th>\n",
       "      <th>Brand</th>\n",
       "      <th>Smartphone</th>\n",
       "      <th>Colour</th>\n",
       "      <th>Price</th>\n",
       "      <th>Storage Rom</th>\n",
       "      <th>Primary Camera</th>\n",
       "      <th>Display Size</th>\n",
       "      <th>Display Resolution</th>\n",
       "      <th>Processor</th>\n",
       "      <th>Processor Cores</th>\n",
       "    </tr>\n",
       "  </thead>\n",
       "  <tbody>\n",
       "    <tr>\n",
       "      <th>0</th>\n",
       "      <td>realme</td>\n",
       "      <td>C33 2023</td>\n",
       "      <td>Night Sea</td>\n",
       "      <td>₹9,999</td>\n",
       "      <td>64 GB</td>\n",
       "      <td>50MP + 0.3MP</td>\n",
       "      <td>16.51 cm (6.5 inch)</td>\n",
       "      <td>1600 x 720 Pixel</td>\n",
       "      <td>Unisoc T612</td>\n",
       "      <td>Octa Core</td>\n",
       "    </tr>\n",
       "    <tr>\n",
       "      <th>1</th>\n",
       "      <td>realme</td>\n",
       "      <td>C33 2023</td>\n",
       "      <td>Sandy Gold</td>\n",
       "      <td>₹9,999</td>\n",
       "      <td>64 GB</td>\n",
       "      <td>50MP + 0.3MP</td>\n",
       "      <td>16.51 cm (6.5 inch)</td>\n",
       "      <td>1600 x 720 Pixel</td>\n",
       "      <td>Unisoc T612</td>\n",
       "      <td>Octa Core</td>\n",
       "    </tr>\n",
       "    <tr>\n",
       "      <th>2</th>\n",
       "      <td>realme</td>\n",
       "      <td>C30</td>\n",
       "      <td>Bamboo Green</td>\n",
       "      <td>₹6,499</td>\n",
       "      <td>32 GB</td>\n",
       "      <td>8MP Rear Camera</td>\n",
       "      <td>16.51 cm (6.5 inch)</td>\n",
       "      <td>1600 x 720 Pixel</td>\n",
       "      <td>Unisoc T612</td>\n",
       "      <td>Octa Core</td>\n",
       "    </tr>\n",
       "    <tr>\n",
       "      <th>3</th>\n",
       "      <td>realme</td>\n",
       "      <td>C30</td>\n",
       "      <td>Denim Black</td>\n",
       "      <td>₹5,999</td>\n",
       "      <td>32 GB</td>\n",
       "      <td>8MP Rear Camera</td>\n",
       "      <td>16.51 cm (6.5 inch)</td>\n",
       "      <td>1600 x 720 Pixel</td>\n",
       "      <td>Unisoc T612</td>\n",
       "      <td>Octa Core</td>\n",
       "    </tr>\n",
       "    <tr>\n",
       "      <th>4</th>\n",
       "      <td>realme</td>\n",
       "      <td>C30</td>\n",
       "      <td>Denim Black</td>\n",
       "      <td>₹6,499</td>\n",
       "      <td>32 GB</td>\n",
       "      <td>8MP Rear Camera</td>\n",
       "      <td>16.51 cm (6.5 inch)</td>\n",
       "      <td>1600 x 720 Pixel</td>\n",
       "      <td>Unisoc T612</td>\n",
       "      <td>Octa Core</td>\n",
       "    </tr>\n",
       "  </tbody>\n",
       "</table>\n",
       "</div>"
      ],
      "text/plain": [
       "    Brand Smartphone        Colour   Price Storage Rom   Primary Camera  \\\n",
       "0  realme   C33 2023     Night Sea  ₹9,999       64 GB     50MP + 0.3MP   \n",
       "1  realme   C33 2023    Sandy Gold  ₹9,999       64 GB     50MP + 0.3MP   \n",
       "2  realme        C30  Bamboo Green  ₹6,499       32 GB  8MP Rear Camera   \n",
       "3  realme        C30   Denim Black  ₹5,999       32 GB  8MP Rear Camera   \n",
       "4  realme        C30   Denim Black  ₹6,499       32 GB  8MP Rear Camera   \n",
       "\n",
       "          Display Size Display Resolution    Processor Processor Cores  \n",
       "0  16.51 cm (6.5 inch)   1600 x 720 Pixel  Unisoc T612       Octa Core  \n",
       "1  16.51 cm (6.5 inch)   1600 x 720 Pixel  Unisoc T612       Octa Core  \n",
       "2  16.51 cm (6.5 inch)   1600 x 720 Pixel  Unisoc T612       Octa Core  \n",
       "3  16.51 cm (6.5 inch)   1600 x 720 Pixel  Unisoc T612       Octa Core  \n",
       "4  16.51 cm (6.5 inch)   1600 x 720 Pixel  Unisoc T612       Octa Core  "
      ]
     },
     "execution_count": 46,
     "metadata": {},
     "output_type": "execute_result"
    }
   ],
   "source": [
    "Pixel4A=pd.DataFrame({'Brand':Brand,'Smartphone':Smartphone,'Colour':Colour,'Price':Price,\n",
    "                        'Storage Rom':Storage_Rom,'Primary Camera':Primary_camera,'Display Size':Display_size,\n",
    "                        'Display Resolution':Display_resolution,'Processor':Processor,'Processor Cores':Processor_cores})\n",
    "print('\\033[1m'+'Flipkart Oneplus Nord Models :'+'\\033[0m')\n",
    "Pixel4A.head()"
   ]
  },
  {
   "cell_type": "markdown",
   "id": "bdcd5d2b",
   "metadata": {},
   "source": [
    "# Q5"
   ]
  },
  {
   "cell_type": "code",
   "execution_count": 47,
   "id": "623058bf",
   "metadata": {},
   "outputs": [],
   "source": [
    "driver=webdriver.Chrome(r'C:\\Users\\bluechip\\Downloads\\chromedriver.exe')"
   ]
  },
  {
   "cell_type": "code",
   "execution_count": 48,
   "id": "3c7ff000",
   "metadata": {},
   "outputs": [
    {
     "name": "stdout",
     "output_type": "stream",
     "text": [
      "Enter City Name : delhi\n",
      "URL Extracted:  https://www.google.co.in/maps/place/Delhi/@28.6442873,76.7635532,10z/data=!3m1!4b1!4m6!3m5!1s0x390cfd5b347eb62d:0x37205b715389640!8m2!3d28.7040592!4d77.1024902!16zL20vMDlmMDc\n",
      "Latitude = 28.6442873, Longitude = 76.7635532\n"
     ]
    }
   ],
   "source": [
    "driver.get(\"https://www.google.co.in/maps\")\n",
    "time.sleep(3)\n",
    "\n",
    "city = input('Enter City Name : ')\n",
    "search = driver.find_element(By.XPATH,'//*[@id=\"searchboxinput\"]')\n",
    "search.clear()\n",
    "time.sleep(2)\n",
    "search.send_keys(city)\n",
    "button = driver.find_element(By.XPATH,'//*[@id=\"searchbox-searchbutton\"]')\n",
    "button.click()\n",
    "time.sleep(3)\n",
    "\n",
    "try:\n",
    "    url_string = driver.current_url\n",
    "    print(\"URL Extracted: \", url_string)\n",
    "    lat_lng = re.findall(r'@(.*)data',url_string)\n",
    "    if len(lat_lng):\n",
    "        lat_lng_list = lat_lng[0].split(\",\")\n",
    "        if len(lat_lng_list)>=2:\n",
    "            lat = lat_lng_list[0]\n",
    "            lng = lat_lng_list[1]\n",
    "        print(\"Latitude = {}, Longitude = {}\".format(lat, lng))\n",
    "\n",
    "except Exception as e:\n",
    "        print(\"Error: \", str(e))"
   ]
  },
  {
   "cell_type": "markdown",
   "id": "d6a62bfa",
   "metadata": {},
   "source": [
    "# Q6"
   ]
  },
  {
   "cell_type": "code",
   "execution_count": 60,
   "id": "7dde3df4",
   "metadata": {},
   "outputs": [],
   "source": [
    "driver=webdriver.Chrome(r'C:\\Users\\bluechip\\Downloads\\chromedriver.exe')"
   ]
  },
  {
   "cell_type": "code",
   "execution_count": 62,
   "id": "608bbeeb",
   "metadata": {},
   "outputs": [],
   "source": [
    "time.sleep(1)\n",
    "\n",
    "url='https://www.trak.in'\n",
    "driver.get(url)\n",
    "time.sleep(3)"
   ]
  },
  {
   "cell_type": "code",
   "execution_count": 63,
   "id": "766cd940",
   "metadata": {},
   "outputs": [],
   "source": [
    "Funding_deals=driver.find_elements(By.XPATH,'//li[@id=\"menu-item-51510\"]/a')\n",
    "for i in Funding_deals:\n",
    "    FDeal=i.get_attribute('href')\n",
    "    driver.get(FDeal)"
   ]
  },
  {
   "cell_type": "code",
   "execution_count": 64,
   "id": "7f607f23",
   "metadata": {},
   "outputs": [],
   "source": [
    "Date=[]\n",
    "Startup=[]\n",
    "Industry=[]\n",
    "Sub_vertical=[]\n",
    "City=[]\n",
    "Investor=[]\n",
    "Investment_type=[]\n",
    "Amount=[]"
   ]
  },
  {
   "cell_type": "code",
   "execution_count": 65,
   "id": "bea8e4be",
   "metadata": {},
   "outputs": [
    {
     "name": "stderr",
     "output_type": "stream",
     "text": [
      "100%|████████████████████████████████████████████████████████████████████████████████████| 3/3 [00:00<00:00,  5.08it/s]\n"
     ]
    }
   ],
   "source": [
    "from tqdm import tqdm\n",
    "for i in tqdm(range(48,51)):\n",
    "    try:\n",
    "        date=driver.find_elements(By.XPATH,'//table[@id=\"tablepress-{}\"]/tbody/tr/td[2]'.format(i))\n",
    "        for j in date:\n",
    "            Date.append(j.text)\n",
    "    except:\n",
    "        Date.append('NA')\n",
    "        \n",
    "    try:\n",
    "        startup=driver.find_elements(By.XPATH,'//table[@id=\"tablepress-{}\"]/tbody/tr/td[3]'.format(i))\n",
    "        for j in startup:\n",
    "            Startup.append(j.text)\n",
    "    except:\n",
    "        Startup.append('NA')\n",
    "    \n",
    "    try:\n",
    "        industry=driver.find_elements(By.XPATH,'//table[@id=\"tablepress-{}\"]/tbody/tr/td[4]'.format(i))\n",
    "        for j in industry:\n",
    "            Industry.append(j.text)\n",
    "    except:\n",
    "        Industry.append('NA')\n",
    "    \n",
    "    try:\n",
    "        subvertical=driver.find_elements(By.XPATH,'//table[@id=\"tablepress-{}\"]/tbody/tr/td[5]'.format(i))\n",
    "        for j in subvertical:\n",
    "            Sub_vertical.append(j.text)\n",
    "    except:\n",
    "        Sub_vertical.append('NA')\n",
    "    \n",
    "    try:\n",
    "        city=driver.find_elements(By.XPATH,'//table[@id=\"tablepress-{}\"]/tbody/tr/td[6]'.format(i))\n",
    "        for j in city:\n",
    "            City.append(j.text)\n",
    "    except:\n",
    "        City.append('NA')\n",
    "        \n",
    "    try:\n",
    "        investor=driver.find_elements(By.XPATH,'//table[@id=\"tablepress-{}\"]/tbody/tr/td[7]'.format(i))\n",
    "        for j in investor:\n",
    "            Investor.append(j.text)\n",
    "    except:\n",
    "        Investor.append('NA')\n",
    "        \n",
    "    try:\n",
    "        investment_type=driver.find_elements(By.XPATH,'//table[@id=\"tablepress-{}\"]/tbody/tr/td[8]'.format(i))\n",
    "        for j in investment_type:\n",
    "            Investment_type.append(j.text)\n",
    "    except:\n",
    "        Investment_type.append('NA')\n",
    "    \n",
    "    try:\n",
    "        amount=driver.find_elements(By.XPATH,'//table[@id=\"tablepress-{}\"]/tbody/tr/td[9]'.format(i))\n",
    "        for j in amount:\n",
    "            Amount.append(j.text)\n",
    "    except:\n",
    "        Amount.append('NA')"
   ]
  },
  {
   "cell_type": "code",
   "execution_count": 72,
   "id": "6692f1c6",
   "metadata": {},
   "outputs": [
    {
     "name": "stdout",
     "output_type": "stream",
     "text": [
      "\u001b[1mFunding deals in second quarter (i.e. Jan 21 – March 21) :\u001b[0m\n"
     ]
    },
    {
     "data": {
      "text/html": [
       "<div>\n",
       "<style scoped>\n",
       "    .dataframe tbody tr th:only-of-type {\n",
       "        vertical-align: middle;\n",
       "    }\n",
       "\n",
       "    .dataframe tbody tr th {\n",
       "        vertical-align: top;\n",
       "    }\n",
       "\n",
       "    .dataframe thead th {\n",
       "        text-align: right;\n",
       "    }\n",
       "</style>\n",
       "<table border=\"1\" class=\"dataframe\">\n",
       "  <thead>\n",
       "    <tr style=\"text-align: right;\">\n",
       "      <th></th>\n",
       "      <th>Date</th>\n",
       "      <th>Startup Company</th>\n",
       "      <th>Industry/Vertical</th>\n",
       "      <th>Sub-Vertical</th>\n",
       "      <th>City</th>\n",
       "      <th>Investor</th>\n",
       "      <th>Investment Type</th>\n",
       "      <th>Amount</th>\n",
       "    </tr>\n",
       "  </thead>\n",
       "  <tbody>\n",
       "  </tbody>\n",
       "</table>\n",
       "</div>"
      ],
      "text/plain": [
       "Empty DataFrame\n",
       "Columns: [Date, Startup Company, Industry/Vertical, Sub-Vertical, City, Investor, Investment Type, Amount]\n",
       "Index: []"
      ]
     },
     "execution_count": 72,
     "metadata": {},
     "output_type": "execute_result"
    }
   ],
   "source": [
    "Funding=pd.DataFrame({'Date':Date,'Startup Company':Startup,'Industry/Vertical':Industry,'Sub-Vertical':Sub_vertical,'City':City,\n",
    "                        'Investor':Investor,'Investment Type':Investment_type,'Amount':Amount})\n",
    "print('\\033[1m'+'Funding deals in second quarter (i.e. Jan 21 – March 21) :'+'\\033[0m')\n",
    "Funding"
   ]
  },
  {
   "cell_type": "markdown",
   "id": "dba77a35",
   "metadata": {},
   "source": [
    "# Q7"
   ]
  },
  {
   "cell_type": "code",
   "execution_count": 67,
   "id": "e8ef33d5",
   "metadata": {},
   "outputs": [],
   "source": [
    "driver=webdriver.Chrome(r'C:\\Users\\bluechip\\Downloads\\chromedriver.exe')"
   ]
  },
  {
   "cell_type": "code",
   "execution_count": 68,
   "id": "af86d6d5",
   "metadata": {},
   "outputs": [],
   "source": [
    "url=\"https://www.digit.in/top-products/best-gaming-laptops-40.html\""
   ]
  },
  {
   "cell_type": "code",
   "execution_count": 69,
   "id": "c0379dcc",
   "metadata": {},
   "outputs": [],
   "source": [
    "driver.get(url)"
   ]
  },
  {
   "cell_type": "code",
   "execution_count": 70,
   "id": "6c3023c1",
   "metadata": {},
   "outputs": [],
   "source": [
    "Brands=[]\n",
    "Products_Description=[]\n",
    "Specification=[]\n",
    "Price=[]"
   ]
  },
  {
   "cell_type": "code",
   "execution_count": 71,
   "id": "cc701a13",
   "metadata": {},
   "outputs": [
    {
     "data": {
      "text/plain": [
       "7"
      ]
     },
     "execution_count": 71,
     "metadata": {},
     "output_type": "execute_result"
    }
   ],
   "source": [
    "br=driver.find_elements(By.XPATH,'//div[@class=\"TopNumbeHeading\"]')\n",
    "len(br)"
   ]
  },
  {
   "cell_type": "code",
   "execution_count": 73,
   "id": "29ce38b6",
   "metadata": {},
   "outputs": [
    {
     "data": {
      "text/plain": [
       "['1.HP OMEN 17 (2023)',\n",
       " '2.MSI Titan GT77 12UHS',\n",
       " '3.Lenovo Legion 5i Pro',\n",
       " '4.ASUS ROG Strix Scar 18 2023',\n",
       " '5.Acer Predator Helios Neo 16',\n",
       " '6.ASUS ROG Zephyrus G14',\n",
       " '7.MSI Cyborg 15']"
      ]
     },
     "execution_count": 73,
     "metadata": {},
     "output_type": "execute_result"
    }
   ],
   "source": [
    "for i in br:\n",
    "   \n",
    "    Brands.append(str(i.text).replace(\"\\n\",\"\"))\n",
    "Brands"
   ]
  },
  {
   "cell_type": "code",
   "execution_count": 74,
   "id": "fb16cafe",
   "metadata": {},
   "outputs": [
    {
     "data": {
      "text/plain": [
       "7"
      ]
     },
     "execution_count": 74,
     "metadata": {},
     "output_type": "execute_result"
    }
   ],
   "source": [
    "sp=driver.find_elements(By.XPATH,\"//div[@class='Specs-Wrap']\")\n",
    "len(sp)"
   ]
  },
  {
   "cell_type": "code",
   "execution_count": 75,
   "id": "beb28157",
   "metadata": {},
   "outputs": [
    {
     "data": {
      "text/plain": [
       "['Windows 11 Home17.3\" (2560 x 1440)13th Gen Intel Core i7-13700HX | 5.0 GHz1 TB SSD/16 GB DDR5',\n",
       " 'Windows 11 Home17.3\" (3840 x 2160)12th Gen Intel Core i9-12900HX | 3.6 GHz2 TB SSD/64 GB DDR5',\n",
       " 'Windows 11 Home16\" (2560 x 1600)12th Gen Intel Core i7-12700H | 4.7 GHz1 TB SSD/32 GB DDR5',\n",
       " 'Windows 11 Home18\" (1920 x 1200)13th Gen Intel Core i9-13980HX | 2.2 GHz1 TB SSD/32 GB DDR5',\n",
       " 'Windows 11 Home16\" (2560 x 1600)13th Gen Intel Core i7-13700HX | NA1 TB SSD/16 GB DDR5',\n",
       " 'Windows 11 Home14\" (1920 x 1200)AMD Ryzen 9-6900HS | 4.9 GHz1 TB SSD/16 GB DDR5',\n",
       " 'Windows 11 Home15.6\" (1920 x 1080)12th Gen Intel Core i7-12650H | 4.7 GHz1 TB SSD/16 GB DDR5']"
      ]
     },
     "execution_count": 75,
     "metadata": {},
     "output_type": "execute_result"
    }
   ],
   "source": [
    "for i in sp:\n",
    "   \n",
    "    Specification.append(str(i.text).replace(\"\\n\",\"\"))\n",
    "Specification"
   ]
  },
  {
   "cell_type": "code",
   "execution_count": 76,
   "id": "eb8414b5",
   "metadata": {},
   "outputs": [
    {
     "data": {
      "text/plain": [
       "7"
      ]
     },
     "execution_count": 76,
     "metadata": {},
     "output_type": "execute_result"
    }
   ],
   "source": [
    "des=driver.find_elements(By.XPATH,'//div[@class=\"Spcs-details\"]')\n",
    "len(des)"
   ]
  },
  {
   "cell_type": "code",
   "execution_count": 77,
   "id": "75cebf98",
   "metadata": {},
   "outputs": [
    {
     "data": {
      "text/plain": [
       "['MORE SPECIFICATIONSProcessor : 13th Gen Intel Core i7-13700HX 16 core processor with 5.0 GHz clock speedDisplay : 17.3″ (2560 x 1440) screen, 165 Hz refresh rateOS : Windows 11 HomeMemory : 16 GB DDR5GB RAM & 1 TB SSDGraphics Processor : 12 GB DDR6 NVIDIA GeForce RTX 4080 Graphics cardBody : 397.1 x 262 x 27 mm dimension & 2.78 kg weightPrice : ₹ 269,777',\n",
       " 'MORE SPECIFICATIONSProcessor : 12th Gen Intel Core i9-12900HX 16 core processor with 3.6 GHz clock speedDisplay : 17.3″ (3840 x 2160) screen, 120 Hz refresh rateOS : Windows 11 HomeMemory : 64 GB DDR5GB RAM & 2 TB SSDGraphics Processor : 16 GB DDR6 NVIDIA GeForce RTX 3080Ti Graphics cardBody : 397 x 330 x 23 mm dimension & 3.3 kg weightPrice : ₹ 499,990',\n",
       " 'MORE SPECIFICATIONSProcessor : 12th Gen Intel Core i7-12700H 14 core processor with 4.7 GHz clock speedDisplay : 16″ (2560 x 1600) screenOS : Windows 11 HomeMemory : 32 GB DDR5GB RAM & 1 TB SSDGraphics Processor : NVIDIA GeForce RTX 3070 Ti Graphics cardBody : 359.9 x 264.4 x 19.9 mm dimension & 3.6 kg weightPrice : ₹ 218,000',\n",
       " 'MORE SPECIFICATIONSProcessor : 13th Gen Intel Core i9-13980HX 24 core processor with 2.2 GHz clock speedDisplay : 18″ (1920 x 1200) screen, 165 Hz refresh rateOS : Windows 11 HomeMemory : 32 GB DDR5GB RAM & 1 TB SSDGraphics Processor : 12 GB DDR6 NVIDIA GeForce RTX 4080 Graphics cardBody : 294 x 399 x 23 mm dimension & 3.1 kg weightPrice : ₹ 279,990',\n",
       " 'MORE SPECIFICATIONSProcessor : 13th Gen Intel Core i7-13700HX processorDisplay : 16″ (2560 x 1600) screen, 165 Hz refresh rateOS : Windows 11 HomeMemory : 16 GB DDR5GB RAM & 1 TB SSDGraphics Processor : 8 GB DDR6 NVIDIA GeForce RTX 4060 Graphics cardBody : 360 x 279 x 28 mm dimension & 2.6 kg weightPrice : ₹ 149,990',\n",
       " 'MORE SPECIFICATIONSProcessor : AMD Ryzen 9-6900HS 8 core processor with 4.9 GHz clock speedDisplay : 14″ (1920 x 1200) screen, 144 Hz refresh rateOS : Windows 11 HomeMemory : 16 GB DDR5GB RAM & 1 TB SSDGraphics Processor : 8 GB DDR6 AMD Radeon RX 6700S Graphics cardBody : 312 x 227 x 19 mm dimension & 1.65 kg weightPrice : ₹ 156,990',\n",
       " 'MORE SPECIFICATIONSProcessor : 12th Gen Intel Core i7-12650H 10 core processor with 4.7 GHz clock speedDisplay : 15.6″ (1920 x 1080) screen, 144 Hz refresh rateOS : Windows 11 HomeMemory : 16 GB DDR5GB RAM & 1 TB SSDGraphics Processor : 8 GB DDR6 NVIDIA GeForce RTX 4060 Graphics cardBody : & 1.98 kg weightPrice : ₹ 130,990']"
      ]
     },
     "execution_count": 77,
     "metadata": {},
     "output_type": "execute_result"
    }
   ],
   "source": [
    "for i in des:\n",
    "   \n",
    "    Products_Description.append(str(i.text).replace(\"\\n\",\"\"))\n",
    "Products_Description"
   ]
  },
  {
   "cell_type": "code",
   "execution_count": 78,
   "id": "6158f35b",
   "metadata": {},
   "outputs": [
    {
     "data": {
      "text/plain": [
       "7"
      ]
     },
     "execution_count": 78,
     "metadata": {},
     "output_type": "execute_result"
    }
   ],
   "source": [
    "pri=driver.find_elements(By.XPATH,\"//td[@class='smprice']\")\n",
    "len(pri)"
   ]
  },
  {
   "cell_type": "code",
   "execution_count": 79,
   "id": "af86c3b1",
   "metadata": {},
   "outputs": [
    {
     "data": {
      "text/plain": [
       "['₹ 269,777',\n",
       " '₹ 499,990',\n",
       " '₹ 218,000',\n",
       " '₹ 279,990',\n",
       " '₹ 149,990',\n",
       " '₹ 156,990',\n",
       " '₹ 130,990']"
      ]
     },
     "execution_count": 79,
     "metadata": {},
     "output_type": "execute_result"
    }
   ],
   "source": [
    "for i in pri:\n",
    "   \n",
    "    Price.append(str(i.text).replace(\"\\n\",\"\"))\n",
    "Price"
   ]
  },
  {
   "cell_type": "code",
   "execution_count": 80,
   "id": "053e3fed",
   "metadata": {},
   "outputs": [
    {
     "data": {
      "text/html": [
       "<div>\n",
       "<style scoped>\n",
       "    .dataframe tbody tr th:only-of-type {\n",
       "        vertical-align: middle;\n",
       "    }\n",
       "\n",
       "    .dataframe tbody tr th {\n",
       "        vertical-align: top;\n",
       "    }\n",
       "\n",
       "    .dataframe thead th {\n",
       "        text-align: right;\n",
       "    }\n",
       "</style>\n",
       "<table border=\"1\" class=\"dataframe\">\n",
       "  <thead>\n",
       "    <tr style=\"text-align: right;\">\n",
       "      <th></th>\n",
       "      <th>Brands</th>\n",
       "      <th>Price</th>\n",
       "      <th>Specification</th>\n",
       "      <th>Description</th>\n",
       "    </tr>\n",
       "  </thead>\n",
       "  <tbody>\n",
       "    <tr>\n",
       "      <th>0</th>\n",
       "      <td>1.HP OMEN 17 (2023)</td>\n",
       "      <td>₹ 269,777</td>\n",
       "      <td>Windows 11 Home17.3\" (2560 x 1440)13th Gen Int...</td>\n",
       "      <td>MORE SPECIFICATIONSProcessor : 13th Gen Intel ...</td>\n",
       "    </tr>\n",
       "    <tr>\n",
       "      <th>1</th>\n",
       "      <td>2.MSI Titan GT77 12UHS</td>\n",
       "      <td>₹ 499,990</td>\n",
       "      <td>Windows 11 Home17.3\" (3840 x 2160)12th Gen Int...</td>\n",
       "      <td>MORE SPECIFICATIONSProcessor : 12th Gen Intel ...</td>\n",
       "    </tr>\n",
       "    <tr>\n",
       "      <th>2</th>\n",
       "      <td>3.Lenovo Legion 5i Pro</td>\n",
       "      <td>₹ 218,000</td>\n",
       "      <td>Windows 11 Home16\" (2560 x 1600)12th Gen Intel...</td>\n",
       "      <td>MORE SPECIFICATIONSProcessor : 12th Gen Intel ...</td>\n",
       "    </tr>\n",
       "    <tr>\n",
       "      <th>3</th>\n",
       "      <td>4.ASUS ROG Strix Scar 18 2023</td>\n",
       "      <td>₹ 279,990</td>\n",
       "      <td>Windows 11 Home18\" (1920 x 1200)13th Gen Intel...</td>\n",
       "      <td>MORE SPECIFICATIONSProcessor : 13th Gen Intel ...</td>\n",
       "    </tr>\n",
       "    <tr>\n",
       "      <th>4</th>\n",
       "      <td>5.Acer Predator Helios Neo 16</td>\n",
       "      <td>₹ 149,990</td>\n",
       "      <td>Windows 11 Home16\" (2560 x 1600)13th Gen Intel...</td>\n",
       "      <td>MORE SPECIFICATIONSProcessor : 13th Gen Intel ...</td>\n",
       "    </tr>\n",
       "    <tr>\n",
       "      <th>5</th>\n",
       "      <td>6.ASUS ROG Zephyrus G14</td>\n",
       "      <td>₹ 156,990</td>\n",
       "      <td>Windows 11 Home14\" (1920 x 1200)AMD Ryzen 9-69...</td>\n",
       "      <td>MORE SPECIFICATIONSProcessor : AMD Ryzen 9-690...</td>\n",
       "    </tr>\n",
       "    <tr>\n",
       "      <th>6</th>\n",
       "      <td>7.MSI Cyborg 15</td>\n",
       "      <td>₹ 130,990</td>\n",
       "      <td>Windows 11 Home15.6\" (1920 x 1080)12th Gen Int...</td>\n",
       "      <td>MORE SPECIFICATIONSProcessor : 12th Gen Intel ...</td>\n",
       "    </tr>\n",
       "  </tbody>\n",
       "</table>\n",
       "</div>"
      ],
      "text/plain": [
       "                          Brands      Price  \\\n",
       "0            1.HP OMEN 17 (2023)  ₹ 269,777   \n",
       "1         2.MSI Titan GT77 12UHS  ₹ 499,990   \n",
       "2         3.Lenovo Legion 5i Pro  ₹ 218,000   \n",
       "3  4.ASUS ROG Strix Scar 18 2023  ₹ 279,990   \n",
       "4  5.Acer Predator Helios Neo 16  ₹ 149,990   \n",
       "5        6.ASUS ROG Zephyrus G14  ₹ 156,990   \n",
       "6                7.MSI Cyborg 15  ₹ 130,990   \n",
       "\n",
       "                                       Specification  \\\n",
       "0  Windows 11 Home17.3\" (2560 x 1440)13th Gen Int...   \n",
       "1  Windows 11 Home17.3\" (3840 x 2160)12th Gen Int...   \n",
       "2  Windows 11 Home16\" (2560 x 1600)12th Gen Intel...   \n",
       "3  Windows 11 Home18\" (1920 x 1200)13th Gen Intel...   \n",
       "4  Windows 11 Home16\" (2560 x 1600)13th Gen Intel...   \n",
       "5  Windows 11 Home14\" (1920 x 1200)AMD Ryzen 9-69...   \n",
       "6  Windows 11 Home15.6\" (1920 x 1080)12th Gen Int...   \n",
       "\n",
       "                                         Description  \n",
       "0  MORE SPECIFICATIONSProcessor : 13th Gen Intel ...  \n",
       "1  MORE SPECIFICATIONSProcessor : 12th Gen Intel ...  \n",
       "2  MORE SPECIFICATIONSProcessor : 12th Gen Intel ...  \n",
       "3  MORE SPECIFICATIONSProcessor : 13th Gen Intel ...  \n",
       "4  MORE SPECIFICATIONSProcessor : 13th Gen Intel ...  \n",
       "5  MORE SPECIFICATIONSProcessor : AMD Ryzen 9-690...  \n",
       "6  MORE SPECIFICATIONSProcessor : 12th Gen Intel ...  "
      ]
     },
     "execution_count": 80,
     "metadata": {},
     "output_type": "execute_result"
    }
   ],
   "source": [
    "digit_lap=pd.DataFrame([])\n",
    "digit_lap['Brands']=Brands[0:7]\n",
    "digit_lap['Price']=Price[0:7]\n",
    "digit_lap['Specification']=Specification[0:7]\n",
    "digit_lap['Description']=Products_Description[0:7]\n",
    "digit_lap"
   ]
  },
  {
   "cell_type": "markdown",
   "id": "d54af017",
   "metadata": {},
   "source": [
    "# Q9"
   ]
  },
  {
   "cell_type": "code",
   "execution_count": 144,
   "id": "6b4ef6d5",
   "metadata": {},
   "outputs": [],
   "source": [
    "driver=webdriver.Chrome(r'C:\\Users\\bluechip\\Downloads\\chromedriver.exe')"
   ]
  },
  {
   "cell_type": "code",
   "execution_count": 145,
   "id": "21f01441",
   "metadata": {},
   "outputs": [],
   "source": [
    "time.sleep(1)\n",
    "\n",
    "url=\"https://www.youtube.com\"\n",
    "driver.get(url)\n",
    "time.sleep(3)"
   ]
  },
  {
   "cell_type": "code",
   "execution_count": 146,
   "id": "42f0a5cb",
   "metadata": {},
   "outputs": [],
   "source": [
    "Search=driver.find_element(By.XPATH,'//input[@id=\"search\"]') \n",
    "\n",
    "Search.send_keys('Healing Ragas - Sitar Tabla - Brindavan Sarang - Classical Instrumental Fusion B.Sivaramakrishna Rao')\n",
    "\n",
    "Search_button=driver.find_element(By.XPATH,'//button[@id=\"search-icon-legacy\"]/yt-icon')  \n",
    "Search_button.click()\n",
    "time.sleep(2)"
   ]
  },
  {
   "cell_type": "code",
   "execution_count": 147,
   "id": "e65ad4c7",
   "metadata": {},
   "outputs": [],
   "source": [
    "link = driver.find_element(By.XPATH,\"//yt-formatted-string[@class ='style-scope ytd-video-renderer']\")\n",
    "link.click()\n",
    "time.sleep(3)"
   ]
  },
  {
   "cell_type": "code",
   "execution_count": 148,
   "id": "d531ac1c",
   "metadata": {},
   "outputs": [],
   "source": [
    "driver.execute_script(\"window.scrollBy(0,1000000)\",\"\")"
   ]
  },
  {
   "cell_type": "code",
   "execution_count": 149,
   "id": "bea82e21",
   "metadata": {},
   "outputs": [],
   "source": [
    "Comments = []\n",
    "Comment_posted_ago = []\n",
    "Timeline = []\n",
    "Likes = []\n",
    "No_of_Likes = []"
   ]
  },
  {
   "cell_type": "code",
   "execution_count": 152,
   "id": "4e31492e",
   "metadata": {},
   "outputs": [
    {
     "name": "stderr",
     "output_type": "stream",
     "text": [
      "100%|████████████████████████████████████████████████████████████████████████████████| 107/107 [00:44<00:00,  2.40it/s]\n"
     ]
    }
   ],
   "source": [
    "comment = driver.find_elements(By.XPATH,'//div[@id=\"content\"]')\n",
    "time.sleep(3)\n",
    "from tqdm import tqdm\n",
    "for i in tqdm(comment):\n",
    "    if i.text is None:\n",
    "        Comments.append(\"--\")\n",
    "    else:\n",
    "        Comments.append(i.text)\n",
    "time.sleep(2)"
   ]
  },
  {
   "cell_type": "code",
   "execution_count": 153,
   "id": "26628794",
   "metadata": {},
   "outputs": [
    {
     "name": "stderr",
     "output_type": "stream",
     "text": [
      "100%|██████████████████████████████████████████████████████████████████████████████████| 40/40 [00:03<00:00, 11.46it/s]\n",
      "100%|███████████████████████████████████████████████████████████████████████████████| 20/20 [00:00<00:00, 19996.68it/s]\n"
     ]
    }
   ],
   "source": [
    "timeline = driver.find_elements(By.XPATH,\"//a[contains(text(),'ago')]\")\n",
    "time.sleep(3)\n",
    "from tqdm import tqdm\n",
    "for i in tqdm(timeline):\n",
    "    if i.text is None:\n",
    "        Timeline.append(\"-\")\n",
    "    else:\n",
    "        Timeline.append(i.text)\n",
    "for i in tqdm(range(0,len(Timeline),2)):\n",
    "    Comment_posted_ago.append(Timeline[i])"
   ]
  },
  {
   "cell_type": "code",
   "execution_count": 154,
   "id": "da0a6f3b",
   "metadata": {},
   "outputs": [],
   "source": [
    "like = driver.find_elements(By.XPATH,\"//span[@class='style-scope ytd-comment-action-buttons-renderer']\")\n",
    "for i in like:\n",
    "    Likes.append(i.text)\n",
    "    \n",
    "for i in range(1,len(Likes),2):\n",
    "    No_of_Likes.append(Likes[i])\n",
    "time.sleep(3)"
   ]
  },
  {
   "cell_type": "code",
   "execution_count": 158,
   "id": "34f7a796",
   "metadata": {},
   "outputs": [
    {
     "data": {
      "text/plain": [
       "(107, 20, 40)"
      ]
     },
     "execution_count": 158,
     "metadata": {},
     "output_type": "execute_result"
    }
   ],
   "source": [
    "len(Comments),len(Comment_posted_ago),len(No_of_Likes)"
   ]
  },
  {
   "cell_type": "code",
   "execution_count": 164,
   "id": "25976be9",
   "metadata": {},
   "outputs": [
    {
     "data": {
      "text/html": [
       "<div>\n",
       "<style scoped>\n",
       "    .dataframe tbody tr th:only-of-type {\n",
       "        vertical-align: middle;\n",
       "    }\n",
       "\n",
       "    .dataframe tbody tr th {\n",
       "        vertical-align: top;\n",
       "    }\n",
       "\n",
       "    .dataframe thead th {\n",
       "        text-align: right;\n",
       "    }\n",
       "</style>\n",
       "<table border=\"1\" class=\"dataframe\">\n",
       "  <thead>\n",
       "    <tr style=\"text-align: right;\">\n",
       "      <th></th>\n",
       "      <th>Comments</th>\n",
       "      <th>Comment Posted Ago</th>\n",
       "      <th>No. of Likes</th>\n",
       "    </tr>\n",
       "  </thead>\n",
       "  <tbody>\n",
       "    <tr>\n",
       "      <th>0</th>\n",
       "      <td>IN\\nSkip navigation\\nSign in\\n0:02 / 14:46\\nHe...</td>\n",
       "      <td>2 years ago</td>\n",
       "      <td>2.4K</td>\n",
       "    </tr>\n",
       "    <tr>\n",
       "      <th>1</th>\n",
       "      <td></td>\n",
       "      <td>1 year ago (edited)</td>\n",
       "      <td>3.6K</td>\n",
       "    </tr>\n",
       "    <tr>\n",
       "      <th>2</th>\n",
       "      <td></td>\n",
       "      <td>1 year ago</td>\n",
       "      <td>486</td>\n",
       "    </tr>\n",
       "    <tr>\n",
       "      <th>3</th>\n",
       "      <td></td>\n",
       "      <td>5 months ago</td>\n",
       "      <td>180</td>\n",
       "    </tr>\n",
       "    <tr>\n",
       "      <th>4</th>\n",
       "      <td></td>\n",
       "      <td>1 year ago</td>\n",
       "      <td>178</td>\n",
       "    </tr>\n",
       "    <tr>\n",
       "      <th>5</th>\n",
       "      <td></td>\n",
       "      <td>1 year ago (edited)</td>\n",
       "      <td>59</td>\n",
       "    </tr>\n",
       "    <tr>\n",
       "      <th>6</th>\n",
       "      <td></td>\n",
       "      <td>1 year ago (edited)</td>\n",
       "      <td>110</td>\n",
       "    </tr>\n",
       "    <tr>\n",
       "      <th>7</th>\n",
       "      <td></td>\n",
       "      <td>1 year ago</td>\n",
       "      <td>5.1K</td>\n",
       "    </tr>\n",
       "    <tr>\n",
       "      <th>8</th>\n",
       "      <td></td>\n",
       "      <td>1 year ago (edited)</td>\n",
       "      <td>639</td>\n",
       "    </tr>\n",
       "    <tr>\n",
       "      <th>9</th>\n",
       "      <td></td>\n",
       "      <td>2 years ago</td>\n",
       "      <td>96</td>\n",
       "    </tr>\n",
       "    <tr>\n",
       "      <th>10</th>\n",
       "      <td></td>\n",
       "      <td>1 year ago</td>\n",
       "      <td>237</td>\n",
       "    </tr>\n",
       "    <tr>\n",
       "      <th>11</th>\n",
       "      <td></td>\n",
       "      <td>2 years ago</td>\n",
       "      <td>158</td>\n",
       "    </tr>\n",
       "    <tr>\n",
       "      <th>12</th>\n",
       "      <td></td>\n",
       "      <td>1 year ago</td>\n",
       "      <td>576</td>\n",
       "    </tr>\n",
       "    <tr>\n",
       "      <th>13</th>\n",
       "      <td></td>\n",
       "      <td>2 years ago (edited)</td>\n",
       "      <td>1.3K</td>\n",
       "    </tr>\n",
       "    <tr>\n",
       "      <th>14</th>\n",
       "      <td></td>\n",
       "      <td>1 year ago (edited)</td>\n",
       "      <td>133</td>\n",
       "    </tr>\n",
       "    <tr>\n",
       "      <th>15</th>\n",
       "      <td></td>\n",
       "      <td>1 month ago</td>\n",
       "      <td>177</td>\n",
       "    </tr>\n",
       "    <tr>\n",
       "      <th>16</th>\n",
       "      <td></td>\n",
       "      <td>2 years ago</td>\n",
       "      <td>175</td>\n",
       "    </tr>\n",
       "    <tr>\n",
       "      <th>17</th>\n",
       "      <td></td>\n",
       "      <td>1 year ago</td>\n",
       "      <td>36</td>\n",
       "    </tr>\n",
       "    <tr>\n",
       "      <th>18</th>\n",
       "      <td></td>\n",
       "      <td>1 year ago</td>\n",
       "      <td>818</td>\n",
       "    </tr>\n",
       "    <tr>\n",
       "      <th>19</th>\n",
       "      <td></td>\n",
       "      <td>1 year ago</td>\n",
       "      <td>1.7K</td>\n",
       "    </tr>\n",
       "  </tbody>\n",
       "</table>\n",
       "</div>"
      ],
      "text/plain": [
       "                                             Comments    Comment Posted Ago  \\\n",
       "0   IN\\nSkip navigation\\nSign in\\n0:02 / 14:46\\nHe...           2 years ago   \n",
       "1                                                       1 year ago (edited)   \n",
       "2                                                                1 year ago   \n",
       "3                                                              5 months ago   \n",
       "4                                                                1 year ago   \n",
       "5                                                       1 year ago (edited)   \n",
       "6                                                       1 year ago (edited)   \n",
       "7                                                                1 year ago   \n",
       "8                                                       1 year ago (edited)   \n",
       "9                                                               2 years ago   \n",
       "10                                                               1 year ago   \n",
       "11                                                              2 years ago   \n",
       "12                                                               1 year ago   \n",
       "13                                                     2 years ago (edited)   \n",
       "14                                                      1 year ago (edited)   \n",
       "15                                                              1 month ago   \n",
       "16                                                              2 years ago   \n",
       "17                                                               1 year ago   \n",
       "18                                                               1 year ago   \n",
       "19                                                               1 year ago   \n",
       "\n",
       "   No. of Likes  \n",
       "0          2.4K  \n",
       "1          3.6K  \n",
       "2           486  \n",
       "3           180  \n",
       "4           178  \n",
       "5            59  \n",
       "6           110  \n",
       "7          5.1K  \n",
       "8           639  \n",
       "9            96  \n",
       "10          237  \n",
       "11          158  \n",
       "12          576  \n",
       "13         1.3K  \n",
       "14          133  \n",
       "15          177  \n",
       "16          175  \n",
       "17           36  \n",
       "18          818  \n",
       "19         1.7K  "
      ]
     },
     "execution_count": 164,
     "metadata": {},
     "output_type": "execute_result"
    }
   ],
   "source": [
    "YT=pd.DataFrame({})\n",
    "YT['Comments']=Comments[:20]\n",
    "YT['Comment Posted Ago']=Comment_posted_ago[:20]\n",
    "YT['No. of Likes']=No_of_Likes[:20]\n",
    "YT"
   ]
  },
  {
   "cell_type": "markdown",
   "id": "73ea2bdc",
   "metadata": {},
   "source": [
    "# Q10"
   ]
  }
 ],
 "metadata": {
  "kernelspec": {
   "display_name": "Python 3 (ipykernel)",
   "language": "python",
   "name": "python3"
  },
  "language_info": {
   "codemirror_mode": {
    "name": "ipython",
    "version": 3
   },
   "file_extension": ".py",
   "mimetype": "text/x-python",
   "name": "python",
   "nbconvert_exporter": "python",
   "pygments_lexer": "ipython3",
   "version": "3.9.13"
  }
 },
 "nbformat": 4,
 "nbformat_minor": 5
}
